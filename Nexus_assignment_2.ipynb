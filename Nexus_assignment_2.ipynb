{
  "nbformat": 4,
  "nbformat_minor": 0,
  "metadata": {
    "colab": {
      "provenance": []
    },
    "kernelspec": {
      "name": "python3",
      "display_name": "Python 3"
    },
    "language_info": {
      "name": "python"
    }
  },
  "cells": [
    {
      "cell_type": "code",
      "source": [
        "!pip install seaborn wordcloud nltk\n",
        "\n"
      ],
      "metadata": {
        "colab": {
          "base_uri": "https://localhost:8080/"
        },
        "id": "pbdTXninqZWf",
        "outputId": "6c3e5cdf-8b4e-4310-907f-e72df0064a7f"
      },
      "execution_count": null,
      "outputs": [
        {
          "output_type": "stream",
          "name": "stdout",
          "text": [
            "Requirement already satisfied: seaborn in /usr/local/lib/python3.10/dist-packages (0.13.1)\n",
            "Requirement already satisfied: wordcloud in /usr/local/lib/python3.10/dist-packages (1.9.3)\n",
            "Requirement already satisfied: nltk in /usr/local/lib/python3.10/dist-packages (3.8.1)\n",
            "Requirement already satisfied: numpy!=1.24.0,>=1.20 in /usr/local/lib/python3.10/dist-packages (from seaborn) (1.23.5)\n",
            "Requirement already satisfied: pandas>=1.2 in /usr/local/lib/python3.10/dist-packages (from seaborn) (1.5.3)\n",
            "Requirement already satisfied: matplotlib!=3.6.1,>=3.4 in /usr/local/lib/python3.10/dist-packages (from seaborn) (3.7.1)\n",
            "Requirement already satisfied: pillow in /usr/local/lib/python3.10/dist-packages (from wordcloud) (9.4.0)\n",
            "Requirement already satisfied: click in /usr/local/lib/python3.10/dist-packages (from nltk) (8.1.7)\n",
            "Requirement already satisfied: joblib in /usr/local/lib/python3.10/dist-packages (from nltk) (1.3.2)\n",
            "Requirement already satisfied: regex>=2021.8.3 in /usr/local/lib/python3.10/dist-packages (from nltk) (2023.6.3)\n",
            "Requirement already satisfied: tqdm in /usr/local/lib/python3.10/dist-packages (from nltk) (4.66.1)\n",
            "Requirement already satisfied: contourpy>=1.0.1 in /usr/local/lib/python3.10/dist-packages (from matplotlib!=3.6.1,>=3.4->seaborn) (1.2.0)\n",
            "Requirement already satisfied: cycler>=0.10 in /usr/local/lib/python3.10/dist-packages (from matplotlib!=3.6.1,>=3.4->seaborn) (0.12.1)\n",
            "Requirement already satisfied: fonttools>=4.22.0 in /usr/local/lib/python3.10/dist-packages (from matplotlib!=3.6.1,>=3.4->seaborn) (4.47.2)\n",
            "Requirement already satisfied: kiwisolver>=1.0.1 in /usr/local/lib/python3.10/dist-packages (from matplotlib!=3.6.1,>=3.4->seaborn) (1.4.5)\n",
            "Requirement already satisfied: packaging>=20.0 in /usr/local/lib/python3.10/dist-packages (from matplotlib!=3.6.1,>=3.4->seaborn) (23.2)\n",
            "Requirement already satisfied: pyparsing>=2.3.1 in /usr/local/lib/python3.10/dist-packages (from matplotlib!=3.6.1,>=3.4->seaborn) (3.1.1)\n",
            "Requirement already satisfied: python-dateutil>=2.7 in /usr/local/lib/python3.10/dist-packages (from matplotlib!=3.6.1,>=3.4->seaborn) (2.8.2)\n",
            "Requirement already satisfied: pytz>=2020.1 in /usr/local/lib/python3.10/dist-packages (from pandas>=1.2->seaborn) (2023.3.post1)\n",
            "Requirement already satisfied: six>=1.5 in /usr/local/lib/python3.10/dist-packages (from python-dateutil>=2.7->matplotlib!=3.6.1,>=3.4->seaborn) (1.16.0)\n"
          ]
        }
      ]
    },
    {
      "cell_type": "code",
      "source": [
        "# Import necessary libraries\n",
        "import pandas as pd\n",
        "import numpy as np\n",
        "import matplotlib.pyplot as plt\n",
        "import seaborn as sns\n",
        "from sklearn.model_selection import train_test_split\n",
        "from sklearn.feature_extraction.text import TfidfVectorizer\n",
        "from sklearn.naive_bayes import MultinomialNB\n",
        "from sklearn.metrics import accuracy_score, classification_report, confusion_matrix\n",
        "from wordcloud import WordCloud\n",
        "from nltk.corpus import stopwords\n",
        "from nltk.stem import WordNetLemmatizer\n",
        "import nltk\n",
        "import re\n",
        "\n",
        "# Set up nltk\n",
        "nltk.download('stopwords')\n",
        "nltk.download('wordnet')\n",
        "\n",
        "import os\n",
        "\n",
        "# Set up nltk\n",
        "nltk.download('stopwords')\n",
        "nltk.download('wordnet')\n",
        "\n",
        "# 1. Load the dataset\n",
        "file_path = '/content/tweets[1].csv'  # Update with the correct file path\n",
        "df = pd.read_csv(file_path)\n",
        "\n",
        "# 2. Data Cleaning\n",
        "# Handle missing values, duplicate entries, and irrelevant information\n",
        "df.drop_duplicates(inplace=True)\n",
        "df.dropna(subset=['tweet_content'], inplace=True)\n",
        "\n",
        "# 3. Exploratory Data Analysis (EDA)\n",
        "# Visualize sentiment distribution\n",
        "sns.countplot(x='sentiment', data=df)\n",
        "plt.title('Sentiment Distribution')\n",
        "plt.show()\n",
        "\n",
        "# Visualize word clouds for positive and negative sentiments\n",
        "positive_tweets = df[df['sentiment'] == 'positive']['tweet_content'].values\n",
        "negative_tweets = df[df['sentiment'] == 'negative']['tweet_content'].values\n",
        "\n",
        "def plot_wordcloud(tweets, title):\n",
        "    wordcloud = WordCloud(width=800, height=400, random_state=42, max_font_size=110, background_color='white').generate(str(tweets))\n",
        "    plt.figure(figsize=(10, 6))\n",
        "    plt.imshow(wordcloud, interpolation=\"bilinear\")\n",
        "    plt.title(title)\n",
        "    plt.axis('off')\n",
        "    plt.show()\n",
        "\n",
        "plot_wordcloud(positive_tweets, 'Positive Sentiment Word Cloud')\n",
        "plot_wordcloud(negative_tweets, 'Negative Sentiment Word Cloud')\n",
        "\n",
        "# List files in the\n",
        "# 5. Temporal Analysis\n",
        "# Assuming the 'timestamp' column is present, convert it to datetime and analyze\n",
        "df['timestamp'] = pd.to_datetime(df['timestamp'])\n",
        "df.set_index('timestamp', inplace=True)\n",
        "\n",
        "# Resample data to analyze sentiment trends over time\n",
        "resampled_df = df['sentiment'].resample('D').value_counts().unstack().fillna(0)\n",
        "resampled_df.plot.area(stacked=True)\n",
        "plt.title('Sentiment Trends Over Time')\n",
        "plt.xlabel('Date')\n",
        "plt.ylabel('Number of Tweets')\n",
        "plt.show()\n"
      ],
      "metadata": {
        "id": "EH_8b0yOEoJI"
      },
      "execution_count": null,
      "outputs": []
    },
    {
      "cell_type": "code",
      "source": [
        "from google.colab import files\n",
        "uploaded = files.upload()\n"
      ],
      "metadata": {
        "colab": {
          "base_uri": "https://localhost:8080/",
          "height": 73
        },
        "id": "23FTmrizj_GO",
        "outputId": "e4c56afe-baad-4521-b04f-0df2831fa94d"
      },
      "execution_count": 1,
      "outputs": [
        {
          "output_type": "display_data",
          "data": {
            "text/plain": [
              "<IPython.core.display.HTML object>"
            ],
            "text/html": [
              "\n",
              "     <input type=\"file\" id=\"files-d977c5d8-6567-4106-836b-d1d54d27dbd2\" name=\"files[]\" multiple disabled\n",
              "        style=\"border:none\" />\n",
              "     <output id=\"result-d977c5d8-6567-4106-836b-d1d54d27dbd2\">\n",
              "      Upload widget is only available when the cell has been executed in the\n",
              "      current browser session. Please rerun this cell to enable.\n",
              "      </output>\n",
              "      <script>// Copyright 2017 Google LLC\n",
              "//\n",
              "// Licensed under the Apache License, Version 2.0 (the \"License\");\n",
              "// you may not use this file except in compliance with the License.\n",
              "// You may obtain a copy of the License at\n",
              "//\n",
              "//      http://www.apache.org/licenses/LICENSE-2.0\n",
              "//\n",
              "// Unless required by applicable law or agreed to in writing, software\n",
              "// distributed under the License is distributed on an \"AS IS\" BASIS,\n",
              "// WITHOUT WARRANTIES OR CONDITIONS OF ANY KIND, either express or implied.\n",
              "// See the License for the specific language governing permissions and\n",
              "// limitations under the License.\n",
              "\n",
              "/**\n",
              " * @fileoverview Helpers for google.colab Python module.\n",
              " */\n",
              "(function(scope) {\n",
              "function span(text, styleAttributes = {}) {\n",
              "  const element = document.createElement('span');\n",
              "  element.textContent = text;\n",
              "  for (const key of Object.keys(styleAttributes)) {\n",
              "    element.style[key] = styleAttributes[key];\n",
              "  }\n",
              "  return element;\n",
              "}\n",
              "\n",
              "// Max number of bytes which will be uploaded at a time.\n",
              "const MAX_PAYLOAD_SIZE = 100 * 1024;\n",
              "\n",
              "function _uploadFiles(inputId, outputId) {\n",
              "  const steps = uploadFilesStep(inputId, outputId);\n",
              "  const outputElement = document.getElementById(outputId);\n",
              "  // Cache steps on the outputElement to make it available for the next call\n",
              "  // to uploadFilesContinue from Python.\n",
              "  outputElement.steps = steps;\n",
              "\n",
              "  return _uploadFilesContinue(outputId);\n",
              "}\n",
              "\n",
              "// This is roughly an async generator (not supported in the browser yet),\n",
              "// where there are multiple asynchronous steps and the Python side is going\n",
              "// to poll for completion of each step.\n",
              "// This uses a Promise to block the python side on completion of each step,\n",
              "// then passes the result of the previous step as the input to the next step.\n",
              "function _uploadFilesContinue(outputId) {\n",
              "  const outputElement = document.getElementById(outputId);\n",
              "  const steps = outputElement.steps;\n",
              "\n",
              "  const next = steps.next(outputElement.lastPromiseValue);\n",
              "  return Promise.resolve(next.value.promise).then((value) => {\n",
              "    // Cache the last promise value to make it available to the next\n",
              "    // step of the generator.\n",
              "    outputElement.lastPromiseValue = value;\n",
              "    return next.value.response;\n",
              "  });\n",
              "}\n",
              "\n",
              "/**\n",
              " * Generator function which is called between each async step of the upload\n",
              " * process.\n",
              " * @param {string} inputId Element ID of the input file picker element.\n",
              " * @param {string} outputId Element ID of the output display.\n",
              " * @return {!Iterable<!Object>} Iterable of next steps.\n",
              " */\n",
              "function* uploadFilesStep(inputId, outputId) {\n",
              "  const inputElement = document.getElementById(inputId);\n",
              "  inputElement.disabled = false;\n",
              "\n",
              "  const outputElement = document.getElementById(outputId);\n",
              "  outputElement.innerHTML = '';\n",
              "\n",
              "  const pickedPromise = new Promise((resolve) => {\n",
              "    inputElement.addEventListener('change', (e) => {\n",
              "      resolve(e.target.files);\n",
              "    });\n",
              "  });\n",
              "\n",
              "  const cancel = document.createElement('button');\n",
              "  inputElement.parentElement.appendChild(cancel);\n",
              "  cancel.textContent = 'Cancel upload';\n",
              "  const cancelPromise = new Promise((resolve) => {\n",
              "    cancel.onclick = () => {\n",
              "      resolve(null);\n",
              "    };\n",
              "  });\n",
              "\n",
              "  // Wait for the user to pick the files.\n",
              "  const files = yield {\n",
              "    promise: Promise.race([pickedPromise, cancelPromise]),\n",
              "    response: {\n",
              "      action: 'starting',\n",
              "    }\n",
              "  };\n",
              "\n",
              "  cancel.remove();\n",
              "\n",
              "  // Disable the input element since further picks are not allowed.\n",
              "  inputElement.disabled = true;\n",
              "\n",
              "  if (!files) {\n",
              "    return {\n",
              "      response: {\n",
              "        action: 'complete',\n",
              "      }\n",
              "    };\n",
              "  }\n",
              "\n",
              "  for (const file of files) {\n",
              "    const li = document.createElement('li');\n",
              "    li.append(span(file.name, {fontWeight: 'bold'}));\n",
              "    li.append(span(\n",
              "        `(${file.type || 'n/a'}) - ${file.size} bytes, ` +\n",
              "        `last modified: ${\n",
              "            file.lastModifiedDate ? file.lastModifiedDate.toLocaleDateString() :\n",
              "                                    'n/a'} - `));\n",
              "    const percent = span('0% done');\n",
              "    li.appendChild(percent);\n",
              "\n",
              "    outputElement.appendChild(li);\n",
              "\n",
              "    const fileDataPromise = new Promise((resolve) => {\n",
              "      const reader = new FileReader();\n",
              "      reader.onload = (e) => {\n",
              "        resolve(e.target.result);\n",
              "      };\n",
              "      reader.readAsArrayBuffer(file);\n",
              "    });\n",
              "    // Wait for the data to be ready.\n",
              "    let fileData = yield {\n",
              "      promise: fileDataPromise,\n",
              "      response: {\n",
              "        action: 'continue',\n",
              "      }\n",
              "    };\n",
              "\n",
              "    // Use a chunked sending to avoid message size limits. See b/62115660.\n",
              "    let position = 0;\n",
              "    do {\n",
              "      const length = Math.min(fileData.byteLength - position, MAX_PAYLOAD_SIZE);\n",
              "      const chunk = new Uint8Array(fileData, position, length);\n",
              "      position += length;\n",
              "\n",
              "      const base64 = btoa(String.fromCharCode.apply(null, chunk));\n",
              "      yield {\n",
              "        response: {\n",
              "          action: 'append',\n",
              "          file: file.name,\n",
              "          data: base64,\n",
              "        },\n",
              "      };\n",
              "\n",
              "      let percentDone = fileData.byteLength === 0 ?\n",
              "          100 :\n",
              "          Math.round((position / fileData.byteLength) * 100);\n",
              "      percent.textContent = `${percentDone}% done`;\n",
              "\n",
              "    } while (position < fileData.byteLength);\n",
              "  }\n",
              "\n",
              "  // All done.\n",
              "  yield {\n",
              "    response: {\n",
              "      action: 'complete',\n",
              "    }\n",
              "  };\n",
              "}\n",
              "\n",
              "scope.google = scope.google || {};\n",
              "scope.google.colab = scope.google.colab || {};\n",
              "scope.google.colab._files = {\n",
              "  _uploadFiles,\n",
              "  _uploadFilesContinue,\n",
              "};\n",
              "})(self);\n",
              "</script> "
            ]
          },
          "metadata": {}
        },
        {
          "output_type": "stream",
          "name": "stdout",
          "text": [
            "Saving tweets[1].csv to tweets[1].csv\n"
          ]
        }
      ]
    },
    {
      "cell_type": "code",
      "source": [
        "import pandas as pd\n",
        "\n",
        "# Replace with the actual file path\n",
        "file_path = '/content/tweets[1].csv'\n",
        "df = pd.read_csv(file_path)\n",
        "\n",
        "# Display basic information about the dataset\n",
        "print(df.info())\n",
        "\n",
        "# Display the first few rows of the dataset\n",
        "print(df.head())\n"
      ],
      "metadata": {
        "colab": {
          "base_uri": "https://localhost:8080/"
        },
        "id": "BFE14YT8mHEy",
        "outputId": "44577111-724a-4857-86ac-dd0788f65d3e"
      },
      "execution_count": 3,
      "outputs": [
        {
          "output_type": "stream",
          "name": "stdout",
          "text": [
            "<class 'pandas.core.frame.DataFrame'>\n",
            "RangeIndex: 50001 entries, 0 to 50000\n",
            "Data columns (total 6 columns):\n",
            " #   Column      Non-Null Count  Dtype  \n",
            "---  ------      --------------  -----  \n",
            " 0   Unnamed: 0  50001 non-null  object \n",
            " 1   Date        50001 non-null  object \n",
            " 2   User        50001 non-null  object \n",
            " 3   Tweet       50000 non-null  object \n",
            " 4   Likes       49999 non-null  float64\n",
            " 5   Retweets    49999 non-null  float64\n",
            "dtypes: float64(2), object(4)\n",
            "memory usage: 2.3+ MB\n",
            "None\n",
            "  Unnamed: 0                       Date          User  \\\n",
            "0          0  2023-03-29 15:42:36+00:00   AnandPatni8   \n",
            "1          1  2023-03-29 15:42:05+00:00      dhinamum   \n",
            "2          2  2023-03-29 15:34:29+00:00  PrincetonCGI   \n",
            "3          3  2023-03-29 15:31:43+00:00  RishiJoeSanu   \n",
            "4          4  2023-03-29 15:26:48+00:00  itweetsensee   \n",
            "\n",
            "                                               Tweet  Likes  Retweets  \n",
            "0  @vinodkapri @RahulGandhi Respected Indian Citi...    0.0       0.0  \n",
            "1  *Respected Indian Citizens,* Namaskaar I Am Th...    0.0       0.0  \n",
            "2  1/n-Meet Filmmaker Prakash Jha in New Jersey t...    0.0       0.0  \n",
            "3  @MrinalWahal Why would politicians stop using ...    0.0       0.0  \n",
            "4  @annamalai_k @narendramodi A state level presi...    0.0       0.0  \n"
          ]
        }
      ]
    },
    {
      "cell_type": "markdown",
      "source": [
        "**Data Exploration**"
      ],
      "metadata": {
        "id": "QYcoTgCFmY5W"
      }
    },
    {
      "cell_type": "code",
      "source": [
        "import pandas as pd\n",
        "\n",
        "# Replace with the actual file path\n",
        "file_path = '/content/tweets[1].csv'\n",
        "df = pd.read_csv(file_path)\n",
        "\n",
        "# Display basic information about the dataset\n",
        "print(df.info())\n",
        "\n",
        "# Display the first few rows of the dataset\n",
        "print(df.head())\n"
      ],
      "metadata": {
        "colab": {
          "base_uri": "https://localhost:8080/"
        },
        "id": "Tit5BfommYQO",
        "outputId": "4f132425-69e0-4ba0-b82e-dcf7748e2560"
      },
      "execution_count": 4,
      "outputs": [
        {
          "output_type": "stream",
          "name": "stdout",
          "text": [
            "<class 'pandas.core.frame.DataFrame'>\n",
            "RangeIndex: 50001 entries, 0 to 50000\n",
            "Data columns (total 6 columns):\n",
            " #   Column      Non-Null Count  Dtype  \n",
            "---  ------      --------------  -----  \n",
            " 0   Unnamed: 0  50001 non-null  object \n",
            " 1   Date        50001 non-null  object \n",
            " 2   User        50001 non-null  object \n",
            " 3   Tweet       50000 non-null  object \n",
            " 4   Likes       49999 non-null  float64\n",
            " 5   Retweets    49999 non-null  float64\n",
            "dtypes: float64(2), object(4)\n",
            "memory usage: 2.3+ MB\n",
            "None\n",
            "  Unnamed: 0                       Date          User  \\\n",
            "0          0  2023-03-29 15:42:36+00:00   AnandPatni8   \n",
            "1          1  2023-03-29 15:42:05+00:00      dhinamum   \n",
            "2          2  2023-03-29 15:34:29+00:00  PrincetonCGI   \n",
            "3          3  2023-03-29 15:31:43+00:00  RishiJoeSanu   \n",
            "4          4  2023-03-29 15:26:48+00:00  itweetsensee   \n",
            "\n",
            "                                               Tweet  Likes  Retweets  \n",
            "0  @vinodkapri @RahulGandhi Respected Indian Citi...    0.0       0.0  \n",
            "1  *Respected Indian Citizens,* Namaskaar I Am Th...    0.0       0.0  \n",
            "2  1/n-Meet Filmmaker Prakash Jha in New Jersey t...    0.0       0.0  \n",
            "3  @MrinalWahal Why would politicians stop using ...    0.0       0.0  \n",
            "4  @annamalai_k @narendramodi A state level presi...    0.0       0.0  \n"
          ]
        }
      ]
    },
    {
      "cell_type": "markdown",
      "source": [
        "**Data Cleaning**"
      ],
      "metadata": {
        "id": "vJEvhhQTmhs2"
      }
    },
    {
      "cell_type": "code",
      "source": [
        "from google.colab import files\n",
        "uploaded = files.upload()\n"
      ],
      "metadata": {
        "colab": {
          "base_uri": "https://localhost:8080/",
          "height": 73
        },
        "id": "flufGxMXP2BB",
        "outputId": "cbf13f2a-1add-4268-f08a-cb8d2163fa81"
      },
      "execution_count": 5,
      "outputs": [
        {
          "output_type": "display_data",
          "data": {
            "text/plain": [
              "<IPython.core.display.HTML object>"
            ],
            "text/html": [
              "\n",
              "     <input type=\"file\" id=\"files-3ad4ca08-4021-4b2b-b3fe-773159506504\" name=\"files[]\" multiple disabled\n",
              "        style=\"border:none\" />\n",
              "     <output id=\"result-3ad4ca08-4021-4b2b-b3fe-773159506504\">\n",
              "      Upload widget is only available when the cell has been executed in the\n",
              "      current browser session. Please rerun this cell to enable.\n",
              "      </output>\n",
              "      <script>// Copyright 2017 Google LLC\n",
              "//\n",
              "// Licensed under the Apache License, Version 2.0 (the \"License\");\n",
              "// you may not use this file except in compliance with the License.\n",
              "// You may obtain a copy of the License at\n",
              "//\n",
              "//      http://www.apache.org/licenses/LICENSE-2.0\n",
              "//\n",
              "// Unless required by applicable law or agreed to in writing, software\n",
              "// distributed under the License is distributed on an \"AS IS\" BASIS,\n",
              "// WITHOUT WARRANTIES OR CONDITIONS OF ANY KIND, either express or implied.\n",
              "// See the License for the specific language governing permissions and\n",
              "// limitations under the License.\n",
              "\n",
              "/**\n",
              " * @fileoverview Helpers for google.colab Python module.\n",
              " */\n",
              "(function(scope) {\n",
              "function span(text, styleAttributes = {}) {\n",
              "  const element = document.createElement('span');\n",
              "  element.textContent = text;\n",
              "  for (const key of Object.keys(styleAttributes)) {\n",
              "    element.style[key] = styleAttributes[key];\n",
              "  }\n",
              "  return element;\n",
              "}\n",
              "\n",
              "// Max number of bytes which will be uploaded at a time.\n",
              "const MAX_PAYLOAD_SIZE = 100 * 1024;\n",
              "\n",
              "function _uploadFiles(inputId, outputId) {\n",
              "  const steps = uploadFilesStep(inputId, outputId);\n",
              "  const outputElement = document.getElementById(outputId);\n",
              "  // Cache steps on the outputElement to make it available for the next call\n",
              "  // to uploadFilesContinue from Python.\n",
              "  outputElement.steps = steps;\n",
              "\n",
              "  return _uploadFilesContinue(outputId);\n",
              "}\n",
              "\n",
              "// This is roughly an async generator (not supported in the browser yet),\n",
              "// where there are multiple asynchronous steps and the Python side is going\n",
              "// to poll for completion of each step.\n",
              "// This uses a Promise to block the python side on completion of each step,\n",
              "// then passes the result of the previous step as the input to the next step.\n",
              "function _uploadFilesContinue(outputId) {\n",
              "  const outputElement = document.getElementById(outputId);\n",
              "  const steps = outputElement.steps;\n",
              "\n",
              "  const next = steps.next(outputElement.lastPromiseValue);\n",
              "  return Promise.resolve(next.value.promise).then((value) => {\n",
              "    // Cache the last promise value to make it available to the next\n",
              "    // step of the generator.\n",
              "    outputElement.lastPromiseValue = value;\n",
              "    return next.value.response;\n",
              "  });\n",
              "}\n",
              "\n",
              "/**\n",
              " * Generator function which is called between each async step of the upload\n",
              " * process.\n",
              " * @param {string} inputId Element ID of the input file picker element.\n",
              " * @param {string} outputId Element ID of the output display.\n",
              " * @return {!Iterable<!Object>} Iterable of next steps.\n",
              " */\n",
              "function* uploadFilesStep(inputId, outputId) {\n",
              "  const inputElement = document.getElementById(inputId);\n",
              "  inputElement.disabled = false;\n",
              "\n",
              "  const outputElement = document.getElementById(outputId);\n",
              "  outputElement.innerHTML = '';\n",
              "\n",
              "  const pickedPromise = new Promise((resolve) => {\n",
              "    inputElement.addEventListener('change', (e) => {\n",
              "      resolve(e.target.files);\n",
              "    });\n",
              "  });\n",
              "\n",
              "  const cancel = document.createElement('button');\n",
              "  inputElement.parentElement.appendChild(cancel);\n",
              "  cancel.textContent = 'Cancel upload';\n",
              "  const cancelPromise = new Promise((resolve) => {\n",
              "    cancel.onclick = () => {\n",
              "      resolve(null);\n",
              "    };\n",
              "  });\n",
              "\n",
              "  // Wait for the user to pick the files.\n",
              "  const files = yield {\n",
              "    promise: Promise.race([pickedPromise, cancelPromise]),\n",
              "    response: {\n",
              "      action: 'starting',\n",
              "    }\n",
              "  };\n",
              "\n",
              "  cancel.remove();\n",
              "\n",
              "  // Disable the input element since further picks are not allowed.\n",
              "  inputElement.disabled = true;\n",
              "\n",
              "  if (!files) {\n",
              "    return {\n",
              "      response: {\n",
              "        action: 'complete',\n",
              "      }\n",
              "    };\n",
              "  }\n",
              "\n",
              "  for (const file of files) {\n",
              "    const li = document.createElement('li');\n",
              "    li.append(span(file.name, {fontWeight: 'bold'}));\n",
              "    li.append(span(\n",
              "        `(${file.type || 'n/a'}) - ${file.size} bytes, ` +\n",
              "        `last modified: ${\n",
              "            file.lastModifiedDate ? file.lastModifiedDate.toLocaleDateString() :\n",
              "                                    'n/a'} - `));\n",
              "    const percent = span('0% done');\n",
              "    li.appendChild(percent);\n",
              "\n",
              "    outputElement.appendChild(li);\n",
              "\n",
              "    const fileDataPromise = new Promise((resolve) => {\n",
              "      const reader = new FileReader();\n",
              "      reader.onload = (e) => {\n",
              "        resolve(e.target.result);\n",
              "      };\n",
              "      reader.readAsArrayBuffer(file);\n",
              "    });\n",
              "    // Wait for the data to be ready.\n",
              "    let fileData = yield {\n",
              "      promise: fileDataPromise,\n",
              "      response: {\n",
              "        action: 'continue',\n",
              "      }\n",
              "    };\n",
              "\n",
              "    // Use a chunked sending to avoid message size limits. See b/62115660.\n",
              "    let position = 0;\n",
              "    do {\n",
              "      const length = Math.min(fileData.byteLength - position, MAX_PAYLOAD_SIZE);\n",
              "      const chunk = new Uint8Array(fileData, position, length);\n",
              "      position += length;\n",
              "\n",
              "      const base64 = btoa(String.fromCharCode.apply(null, chunk));\n",
              "      yield {\n",
              "        response: {\n",
              "          action: 'append',\n",
              "          file: file.name,\n",
              "          data: base64,\n",
              "        },\n",
              "      };\n",
              "\n",
              "      let percentDone = fileData.byteLength === 0 ?\n",
              "          100 :\n",
              "          Math.round((position / fileData.byteLength) * 100);\n",
              "      percent.textContent = `${percentDone}% done`;\n",
              "\n",
              "    } while (position < fileData.byteLength);\n",
              "  }\n",
              "\n",
              "  // All done.\n",
              "  yield {\n",
              "    response: {\n",
              "      action: 'complete',\n",
              "    }\n",
              "  };\n",
              "}\n",
              "\n",
              "scope.google = scope.google || {};\n",
              "scope.google.colab = scope.google.colab || {};\n",
              "scope.google.colab._files = {\n",
              "  _uploadFiles,\n",
              "  _uploadFilesContinue,\n",
              "};\n",
              "})(self);\n",
              "</script> "
            ]
          },
          "metadata": {}
        },
        {
          "output_type": "stream",
          "name": "stdout",
          "text": [
            "Saving tweets[1].csv to tweets[1].csv\n"
          ]
        }
      ]
    },
    {
      "cell_type": "code",
      "source": [
        "import pandas as pd\n",
        "\n",
        "# Replace with the actual file name\n",
        "file_name = 'tweets[1].csv'\n",
        "df = pd.read_csv(file_name)\n",
        "\n",
        "# Display basic information about the dataset\n",
        "print(df.info())\n",
        "\n",
        "# Display the first few rows of the dataset\n",
        "print(df.head())\n"
      ],
      "metadata": {
        "colab": {
          "base_uri": "https://localhost:8080/"
        },
        "id": "jr8PJXkJPzh_",
        "outputId": "cdc9b11f-5057-4e8b-c745-04529f40c2aa"
      },
      "execution_count": 6,
      "outputs": [
        {
          "output_type": "stream",
          "name": "stdout",
          "text": [
            "<class 'pandas.core.frame.DataFrame'>\n",
            "RangeIndex: 50001 entries, 0 to 50000\n",
            "Data columns (total 6 columns):\n",
            " #   Column      Non-Null Count  Dtype  \n",
            "---  ------      --------------  -----  \n",
            " 0   Unnamed: 0  50001 non-null  object \n",
            " 1   Date        50001 non-null  object \n",
            " 2   User        50001 non-null  object \n",
            " 3   Tweet       50000 non-null  object \n",
            " 4   Likes       49999 non-null  float64\n",
            " 5   Retweets    49999 non-null  float64\n",
            "dtypes: float64(2), object(4)\n",
            "memory usage: 2.3+ MB\n",
            "None\n",
            "  Unnamed: 0                       Date          User  \\\n",
            "0          0  2023-03-29 15:42:36+00:00   AnandPatni8   \n",
            "1          1  2023-03-29 15:42:05+00:00      dhinamum   \n",
            "2          2  2023-03-29 15:34:29+00:00  PrincetonCGI   \n",
            "3          3  2023-03-29 15:31:43+00:00  RishiJoeSanu   \n",
            "4          4  2023-03-29 15:26:48+00:00  itweetsensee   \n",
            "\n",
            "                                               Tweet  Likes  Retweets  \n",
            "0  @vinodkapri @RahulGandhi Respected Indian Citi...    0.0       0.0  \n",
            "1  *Respected Indian Citizens,* Namaskaar I Am Th...    0.0       0.0  \n",
            "2  1/n-Meet Filmmaker Prakash Jha in New Jersey t...    0.0       0.0  \n",
            "3  @MrinalWahal Why would politicians stop using ...    0.0       0.0  \n",
            "4  @annamalai_k @narendramodi A state level presi...    0.0       0.0  \n"
          ]
        }
      ]
    },
    {
      "cell_type": "code",
      "source": [
        "# Replace with the actual file path\n",
        "file_path = '/content/tweets[1].csv'\n",
        "df = pd.read_csv(file_path)\n"
      ],
      "metadata": {
        "id": "BMNIxGfsQ75Y"
      },
      "execution_count": 7,
      "outputs": []
    },
    {
      "cell_type": "code",
      "source": [
        "# Display basic information about the dataset\n",
        "print(df.info())\n",
        "\n",
        "# Display the first few rows of the dataset\n",
        "print(df.head())\n"
      ],
      "metadata": {
        "colab": {
          "base_uri": "https://localhost:8080/"
        },
        "id": "i-G3RGt9RAZQ",
        "outputId": "bef80c78-ef4f-474c-e052-970a6a8f6fe1"
      },
      "execution_count": 8,
      "outputs": [
        {
          "output_type": "stream",
          "name": "stdout",
          "text": [
            "<class 'pandas.core.frame.DataFrame'>\n",
            "RangeIndex: 50001 entries, 0 to 50000\n",
            "Data columns (total 6 columns):\n",
            " #   Column      Non-Null Count  Dtype  \n",
            "---  ------      --------------  -----  \n",
            " 0   Unnamed: 0  50001 non-null  object \n",
            " 1   Date        50001 non-null  object \n",
            " 2   User        50001 non-null  object \n",
            " 3   Tweet       50000 non-null  object \n",
            " 4   Likes       49999 non-null  float64\n",
            " 5   Retweets    49999 non-null  float64\n",
            "dtypes: float64(2), object(4)\n",
            "memory usage: 2.3+ MB\n",
            "None\n",
            "  Unnamed: 0                       Date          User  \\\n",
            "0          0  2023-03-29 15:42:36+00:00   AnandPatni8   \n",
            "1          1  2023-03-29 15:42:05+00:00      dhinamum   \n",
            "2          2  2023-03-29 15:34:29+00:00  PrincetonCGI   \n",
            "3          3  2023-03-29 15:31:43+00:00  RishiJoeSanu   \n",
            "4          4  2023-03-29 15:26:48+00:00  itweetsensee   \n",
            "\n",
            "                                               Tweet  Likes  Retweets  \n",
            "0  @vinodkapri @RahulGandhi Respected Indian Citi...    0.0       0.0  \n",
            "1  *Respected Indian Citizens,* Namaskaar I Am Th...    0.0       0.0  \n",
            "2  1/n-Meet Filmmaker Prakash Jha in New Jersey t...    0.0       0.0  \n",
            "3  @MrinalWahal Why would politicians stop using ...    0.0       0.0  \n",
            "4  @annamalai_k @narendramodi A state level presi...    0.0       0.0  \n"
          ]
        }
      ]
    },
    {
      "cell_type": "code",
      "source": [
        "import pandas as pd\n",
        "\n",
        "# Replace with the actual file path\n",
        "file_path = '/content/tweets[1].csv'\n",
        "df = pd.read_csv(file_path)\n",
        "\n",
        "# Display basic information about the dataset\n",
        "print(df.info())\n",
        "\n",
        "# Display the first few rows of the dataset\n",
        "print(df.head())\n",
        "\n",
        "# Display the column names\n",
        "print(df.columns)\n",
        "\n",
        "# Display the column names\n",
        "print(df.columns)\n"
      ],
      "metadata": {
        "colab": {
          "base_uri": "https://localhost:8080/"
        },
        "id": "QwxJ148wRENC",
        "outputId": "a1873f54-710c-47e1-ec8a-f32b641bce11"
      },
      "execution_count": 16,
      "outputs": [
        {
          "output_type": "stream",
          "name": "stdout",
          "text": [
            "<class 'pandas.core.frame.DataFrame'>\n",
            "RangeIndex: 50001 entries, 0 to 50000\n",
            "Data columns (total 6 columns):\n",
            " #   Column      Non-Null Count  Dtype  \n",
            "---  ------      --------------  -----  \n",
            " 0   Unnamed: 0  50001 non-null  object \n",
            " 1   Date        50001 non-null  object \n",
            " 2   User        50001 non-null  object \n",
            " 3   Tweet       50000 non-null  object \n",
            " 4   Likes       49999 non-null  float64\n",
            " 5   Retweets    49999 non-null  float64\n",
            "dtypes: float64(2), object(4)\n",
            "memory usage: 2.3+ MB\n",
            "None\n",
            "  Unnamed: 0                       Date          User  \\\n",
            "0          0  2023-03-29 15:42:36+00:00   AnandPatni8   \n",
            "1          1  2023-03-29 15:42:05+00:00      dhinamum   \n",
            "2          2  2023-03-29 15:34:29+00:00  PrincetonCGI   \n",
            "3          3  2023-03-29 15:31:43+00:00  RishiJoeSanu   \n",
            "4          4  2023-03-29 15:26:48+00:00  itweetsensee   \n",
            "\n",
            "                                               Tweet  Likes  Retweets  \n",
            "0  @vinodkapri @RahulGandhi Respected Indian Citi...    0.0       0.0  \n",
            "1  *Respected Indian Citizens,* Namaskaar I Am Th...    0.0       0.0  \n",
            "2  1/n-Meet Filmmaker Prakash Jha in New Jersey t...    0.0       0.0  \n",
            "3  @MrinalWahal Why would politicians stop using ...    0.0       0.0  \n",
            "4  @annamalai_k @narendramodi A state level presi...    0.0       0.0  \n",
            "Index(['Unnamed: 0', 'Date', 'User', 'Tweet', 'Likes', 'Retweets'], dtype='object')\n",
            "Index(['Unnamed: 0', 'Date', 'User', 'Tweet', 'Likes', 'Retweets'], dtype='object')\n"
          ]
        }
      ]
    },
    {
      "cell_type": "markdown",
      "source": [
        "**Exploratory Data Analysis EDA**"
      ],
      "metadata": {
        "id": "y351J2CqmwTe"
      }
    },
    {
      "cell_type": "code",
      "source": [
        "# Handle missing values\n",
        "df.dropna(subset=['tweet_content'], inplace=True)\n",
        "\n",
        "# Replace 'tweet_content' with the actual column name for tweet content\n",
        "# Remove irrelevant columns\n",
        "df = df[['timestamp', 'tweet_content', 'sentiment_label']]\n"
      ],
      "metadata": {
        "id": "PIvIQSSETezL"
      },
      "execution_count": null,
      "outputs": []
    },
    {
      "cell_type": "markdown",
      "source": [
        "**Sentiment Distribution**"
      ],
      "metadata": {
        "id": "svs7s39jm3vt"
      }
    },
    {
      "cell_type": "code",
      "source": [
        "# Visualize the distribution of sentiment labels\n",
        "df['sentiment_label'].value_counts().plot(kind='bar')\n",
        "plt.title('Sentiment Distribution')\n",
        "plt.show()\n"
      ],
      "metadata": {
        "id": "8Spht5HkLpn_"
      },
      "execution_count": null,
      "outputs": []
    },
    {
      "cell_type": "markdown",
      "source": [
        "**Word Distribution Analysis**"
      ],
      "metadata": {
        "id": "F5Oklfvvm7-w"
      }
    },
    {
      "cell_type": "code",
      "source": [
        "# Analyze word frequency in tweets\n",
        "from sklearn.feature_extraction.text import CountVectorizer\n",
        "\n",
        "vectorizer = CountVectorizer(stop_words='english')\n",
        "X = vectorizer.fit_transform(df['tweet_content'])\n",
        "\n",
        "# Get the most frequent words\n",
        "word_frequencies = pd.DataFrame(X.sum(axis=0), columns=vectorizer.get_feature_names_out())\n",
        "word_frequencies = word_frequencies.transpose().sort_values(0, ascending=False)\n"
      ],
      "metadata": {
        "id": "nbq-YrDbLtQ8"
      },
      "execution_count": null,
      "outputs": []
    },
    {
      "cell_type": "markdown",
      "source": [
        "**Temporal Analysis**"
      ],
      "metadata": {
        "id": "f3ZkDuF-nCV4"
      }
    },
    {
      "cell_type": "code",
      "source": [
        "# Convert timestamp to datetime format\n",
        "df['timestamp'] = pd.to_datetime(df['timestamp'])\n",
        "\n",
        "# Plot sentiment over time\n",
        "df.set_index('timestamp')['sentiment_label'].resample('D').value_counts().unstack().plot()\n",
        "plt.title('Sentiment Over Time')\n",
        "plt.show()\n"
      ],
      "metadata": {
        "id": "fQhWUBEzLwqK"
      },
      "execution_count": null,
      "outputs": []
    },
    {
      "cell_type": "markdown",
      "source": [
        "**Text Preprocessing**"
      ],
      "metadata": {
        "id": "n8KPpo6fnFrU"
      }
    },
    {
      "cell_type": "code",
      "source": [
        "import re\n",
        "from nltk.corpus import stopwords\n",
        "from nltk.stem import WordNetLemmatizer\n",
        "\n",
        "# Remove special characters, URLs, and stopwords\n",
        "stop_words = set(stopwords.words('english'))\n",
        "lemmatizer = WordNetLemmatizer()\n",
        "\n",
        "def preprocess_text(text):\n",
        "    text = re.sub(r'http\\S+', '', text)\n",
        "    text = re.sub('[^a-zA-Z]', ' ', text)\n",
        "    text = ' '.join([lemmatizer.lemmatize(word) for word in text.split() if word.lower() not in stop_words])\n",
        "    return text\n",
        "\n",
        "df['cleaned_text'] = df['tweet_content'].apply(preprocess_text)\n"
      ],
      "metadata": {
        "id": "yxLpB3itLzBL"
      },
      "execution_count": null,
      "outputs": []
    },
    {
      "cell_type": "markdown",
      "source": [
        "**Sentiment Prediction Model**"
      ],
      "metadata": {
        "id": "39qS3pKpnKE4"
      }
    },
    {
      "cell_type": "code",
      "source": [
        "from sklearn.model_selection import train_test_split\n",
        "from sklearn.feature_extraction.text import TfidfVectorizer\n",
        "from sklearn.naive_bayes import MultinomialNB\n",
        "from sklearn.metrics import accuracy_score, classification_report\n",
        "\n",
        "# Split the data into training and testing sets\n",
        "X_train, X_test, y_train, y_test = train_test_split(df['cleaned_text'], df['sentiment_label'], test_size=0.2, random_state=42)\n",
        "\n",
        "# Vectorize the text data\n",
        "vectorizer = TfidfVectorizer()\n",
        "X_train_vectorized = vectorizer.fit_transform(X_train)\n",
        "X_test_vectorized = vectorizer.transform(X_test)\n",
        "\n",
        "# Train a simple Naive Bayes classifier\n",
        "clf = MultinomialNB()\n",
        "clf.fit(X_train_vectorized, y_train)\n",
        "\n",
        "# Make predictions on the test set\n",
        "y_pred = clf.predict(X_test_vectorized)\n",
        "\n",
        "# Evaluate the model\n",
        "print(\"Accuracy:\", accuracy_score(y_test, y_pred))\n",
        "print(\"Classification Report:\\n\", classification_report(y_test, y_pred))\n"
      ],
      "metadata": {
        "id": "UEi1QQAzL1n7"
      },
      "execution_count": null,
      "outputs": []
    },
    {
      "cell_type": "markdown",
      "source": [
        "**Feature Importance**"
      ],
      "metadata": {
        "id": "oQRch22-nOyf"
      }
    },
    {
      "cell_type": "code",
      "source": [
        "# Get feature importance from the classifier\n",
        "feature_names = vectorizer.get_feature_names_out()\n",
        "feature_importance = clf.coef_[0]\n",
        "\n",
        "# Create a DataFrame for better visualization\n",
        "feature_df = pd.DataFrame({'Feature': feature_names, 'Importance': feature_importance})\n",
        "feature_df = feature_df.sort_values(by='Importance', ascending=False).head(10)\n",
        "print(feature_df)\n"
      ],
      "metadata": {
        "id": "dum3LopdL4BP"
      },
      "execution_count": null,
      "outputs": []
    },
    {
      "cell_type": "markdown",
      "source": [
        "**User Interface (Optional)**"
      ],
      "metadata": {
        "id": "rYU8fNManeEN"
      }
    },
    {
      "cell_type": "markdown",
      "source": [],
      "metadata": {
        "id": "YmZM119jngh6"
      }
    }
  ]
}